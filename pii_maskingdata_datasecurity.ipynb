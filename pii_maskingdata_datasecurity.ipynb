{
  "nbformat": 4,
  "nbformat_minor": 0,
  "metadata": {
    "colab": {
      "provenance": [],
      "include_colab_link": true
    },
    "kernelspec": {
      "name": "python3",
      "display_name": "Python 3"
    },
    "language_info": {
      "name": "python"
    }
  },
  "cells": [
    {
      "cell_type": "markdown",
      "metadata": {
        "id": "view-in-github",
        "colab_type": "text"
      },
      "source": [
        "<a href=\"https://colab.research.google.com/github/kuldeep27396/apache_pinot_kafka/blob/main/pii_maskingdata_datasecurity.ipynb\" target=\"_parent\"><img src=\"https://colab.research.google.com/assets/colab-badge.svg\" alt=\"Open In Colab\"/></a>"
      ]
    },
    {
      "cell_type": "code",
      "execution_count": 1,
      "metadata": {
        "id": "AIkfjSMNSexI"
      },
      "outputs": [],
      "source": [
        "# !pip install pyspark\n",
        "# !pip install presidio-analyzer presidio-anonymizer\n",
        "# !pip install typing\n"
      ]
    },
    {
      "cell_type": "code",
      "source": [
        "import logging\n",
        "from pyspark.sql import SparkSession\n",
        "from pyspark.sql.functions import col, pandas_udf, current_timestamp\n",
        "from pyspark.sql.types import StringType\n",
        "from presidio_analyzer import AnalyzerEngine, PatternRecognizer, Pattern\n",
        "from presidio_anonymizer import AnonymizerEngine\n",
        "from presidio_anonymizer.entities import OperatorConfig\n",
        "import pandas as pd\n",
        "from typing import Any\n",
        "\n",
        "# Initialize logging\n",
        "logging.basicConfig(level=logging.INFO, format='%(asctime)s - %(levelname)s - %(message)s')\n",
        "logger = logging.getLogger(\"PII Anonymization Pipeline\")\n"
      ],
      "metadata": {
        "id": "Vz6x-tqSSq8M"
      },
      "execution_count": 2,
      "outputs": []
    },
    {
      "cell_type": "code",
      "source": [
        "# @title\n",
        "def initialize_spark() -> SparkSession:\n",
        "    spark = SparkSession.builder \\\n",
        "        .appName(\"PII Anonymization Pipeline\") \\\n",
        "        .config(\"spark.sql.execution.arrow.enabled\", \"true\") \\\n",
        "        .getOrCreate()\n",
        "    logger.info(\"Spark session initialized.\")\n",
        "    return spark\n",
        "\n",
        "spark = initialize_spark()"
      ],
      "metadata": {
        "id": "-ebdg5z-S8iO"
      },
      "execution_count": 3,
      "outputs": []
    },
    {
      "cell_type": "code",
      "source": [
        "def initialize_presidio():\n",
        "    \"\"\"\n",
        "    Initialize and return Presidio Analyzer and Anonymizer engines along with custom patterns.\n",
        "    \"\"\"\n",
        "    # Initialize Presidio engines\n",
        "    analyzer = AnalyzerEngine()\n",
        "    anonymizer = AnonymizerEngine()\n",
        "\n",
        "    # Define custom patterns\n",
        "    policy_number_pattern = Pattern(name=\"policy_number_pattern\", regex=r\"\\d{8}\", score=1.0)\n",
        "    property_policy_number_pattern = Pattern(name=\"property_policy_number_pattern\", regex=r\"[A-Z]{3}\\d{6}\", score=1.0)\n",
        "    time_pattern = Pattern(name=\"effective_timestamp_pattern\", regex=r\"(0[1-9]|1[0-2])/[0-3][0-9]/(?:19|20)\\d{2}\", score=1.0)\n",
        "\n",
        "    # Create custom recognizers\n",
        "    policy_number_recognizer = PatternRecognizer(\n",
        "        supported_entity=\"POLICY_NUMBER\",\n",
        "        patterns=[policy_number_pattern, property_policy_number_pattern]\n",
        "    )\n",
        "    time_recognizer = PatternRecognizer(\n",
        "        supported_entity=\"EFFECTIVE_DATE\",\n",
        "        patterns=[time_pattern]\n",
        "    )\n",
        "\n",
        "    # Register custom recognizers\n",
        "    analyzer.registry.add_recognizer(policy_number_recognizer)\n",
        "    analyzer.registry.add_recognizer(time_recognizer)\n",
        "\n",
        "    # Define custom anonymization operators\n",
        "    custom_anonymization_operators = {\n",
        "        \"PERSON\": OperatorConfig(\"custom\", {\"lambda\": lambda x: \"**NAME**\"}),\n",
        "        \"LOCATION\": OperatorConfig(\"custom\", {\"lambda\": lambda x: \"**LOCATION**\"}),\n",
        "        \"EMAIL_ADDRESS\": OperatorConfig(\"custom\", {\"lambda\": lambda x: \"**EMAIL**\"}),\n",
        "        \"PHONE_NUMBER\": OperatorConfig(\"custom\", {\"lambda\": lambda x: \"**PHONE_NUMBER**\"}),\n",
        "        \"POLICY_NUMBER\": OperatorConfig(\"custom\", {\"lambda\": lambda x: \"**POLICY_NUMBER**\"}),\n",
        "        \"EFFECTIVE_DATE\": OperatorConfig(\"custom\", {\"lambda\": lambda x: \"**EFFECTIVE_DATE**\"}),\n",
        "        \"DATE_TIME\": OperatorConfig(\"custom\", {\"lambda\": lambda x: \"**DATE_TIME**\"})\n",
        "    }\n",
        "\n",
        "    logger.info(\"Presidio engines initialized.\")\n",
        "    return analyzer, anonymizer, custom_anonymization_operators\n",
        "\n",
        "# Initialize Presidio engines\n",
        "analyzer, anonymizer, custom_operators = initialize_presidio()\n",
        "\n",
        "\n"
      ],
      "metadata": {
        "colab": {
          "base_uri": "https://localhost:8080/"
        },
        "id": "B3YewoOdTH-t",
        "outputId": "23409da2-8c1f-431e-9b7e-a958816f9112"
      },
      "execution_count": 4,
      "outputs": [
        {
          "output_type": "stream",
          "name": "stderr",
          "text": [
            "WARNING:presidio-analyzer:Model en_core_web_lg is not installed. Downloading...\n"
          ]
        },
        {
          "output_type": "stream",
          "name": "stdout",
          "text": [
            "\u001b[38;5;2m✔ Download and installation successful\u001b[0m\n",
            "You can now load the package via spacy.load('en_core_web_lg')\n",
            "\u001b[38;5;3m⚠ Restart to reload dependencies\u001b[0m\n",
            "If you are in a Jupyter or Colab notebook, you may need to restart Python in\n",
            "order to load all the package's dependencies. You can do this by selecting the\n",
            "'Restart kernel' or 'Restart runtime' option.\n"
          ]
        },
        {
          "output_type": "stream",
          "name": "stderr",
          "text": [
            "WARNING:presidio-analyzer:Recognizer not added to registry because language is not supported by registry - CreditCardRecognizer supported languages: es, registry supported languages: en\n",
            "WARNING:presidio-analyzer:Recognizer not added to registry because language is not supported by registry - CreditCardRecognizer supported languages: it, registry supported languages: en\n",
            "WARNING:presidio-analyzer:Recognizer not added to registry because language is not supported by registry - CreditCardRecognizer supported languages: pl, registry supported languages: en\n",
            "WARNING:presidio-analyzer:Recognizer not added to registry because language is not supported by registry - EsNifRecognizer supported languages: es, registry supported languages: en\n",
            "WARNING:presidio-analyzer:Recognizer not added to registry because language is not supported by registry - EsNieRecognizer supported languages: es, registry supported languages: en\n",
            "WARNING:presidio-analyzer:Recognizer not added to registry because language is not supported by registry - ItDriverLicenseRecognizer supported languages: it, registry supported languages: en\n",
            "WARNING:presidio-analyzer:Recognizer not added to registry because language is not supported by registry - ItFiscalCodeRecognizer supported languages: it, registry supported languages: en\n",
            "WARNING:presidio-analyzer:Recognizer not added to registry because language is not supported by registry - ItVatCodeRecognizer supported languages: it, registry supported languages: en\n",
            "WARNING:presidio-analyzer:Recognizer not added to registry because language is not supported by registry - ItIdentityCardRecognizer supported languages: it, registry supported languages: en\n",
            "WARNING:presidio-analyzer:Recognizer not added to registry because language is not supported by registry - ItPassportRecognizer supported languages: it, registry supported languages: en\n",
            "WARNING:presidio-analyzer:Recognizer not added to registry because language is not supported by registry - PlPeselRecognizer supported languages: pl, registry supported languages: en\n"
          ]
        }
      ]
    },
    {
      "cell_type": "code",
      "source": [
        "def broadcast_presidio_engines(spark, analyzer, anonymizer):\n",
        "    return spark.sparkContext.broadcast(analyzer), spark.sparkContext.broadcast(anonymizer)\n",
        "\n",
        "analyzer_broadcast, anonymizer_broadcast = broadcast_presidio_engines(spark, analyzer, anonymizer)\n"
      ],
      "metadata": {
        "id": "rGD2cFOXUsuX"
      },
      "execution_count": 5,
      "outputs": []
    },
    {
      "cell_type": "code",
      "source": [
        "# Global variables for broadcasted objects\n",
        "def set_broadcast_vars(b_analyzer, b_anonymizer, operators):\n",
        "    global analyzer_broadcast, anonymizer_broadcast, custom_operators\n",
        "    analyzer_broadcast = b_analyzer\n",
        "    anonymizer_broadcast = b_anonymizer\n",
        "    custom_operators = operators\n",
        "\n",
        "set_broadcast_vars(analyzer_broadcast, anonymizer_broadcast, custom_operators)\n",
        "\n",
        "def anonymize_text(text):\n",
        "    \"\"\"\n",
        "    Anonymize a single text string using Presidio Analyzer and Anonymizer.\n",
        "    \"\"\"\n",
        "    analyzer = analyzer_broadcast.value\n",
        "    anonymizer = anonymizer_broadcast.value\n",
        "\n",
        "    if not text or text.strip() == \"\":\n",
        "        return text\n",
        "    try:\n",
        "        results = analyzer.analyze(text=text, language=\"en\")\n",
        "        if results:\n",
        "            anonymized_result = anonymizer.anonymize(\n",
        "                text=text,\n",
        "                analyzer_results=results,\n",
        "                operators=custom_operators\n",
        "            )\n",
        "            return anonymized_result.text\n",
        "        return text\n",
        "    except Exception as e:\n",
        "        logger.error(f\"Error processing text: {text}\", exc_info=True)\n",
        "        return \"ERROR\"\n",
        "\n",
        "@pandas_udf(StringType())\n",
        "def analyze_and_anonymize(text_series: pd.Series) -> pd.Series:\n",
        "    \"\"\"\n",
        "    Anonymize a Pandas Series using the global analyzer and anonymizer.\n",
        "    \"\"\"\n",
        "    return text_series.apply(anonymize_text)\n",
        "\n"
      ],
      "metadata": {
        "collapsed": true,
        "id": "V9Bp6e0lU9HR"
      },
      "execution_count": 7,
      "outputs": []
    },
    {
      "cell_type": "code",
      "source": [
        "import pandas as pd\n",
        "import numpy as np\n",
        "from faker import Faker\n",
        "from datetime import datetime, timedelta\n",
        "import random\n",
        "\n",
        "def generate_synthetic_insurance_data(num_records=1000):\n",
        "    \"\"\"\n",
        "    Generate synthetic insurance data with PII and PCI information.\n",
        "    Returns a DataFrame with realistic-looking insurance records.\n",
        "    \"\"\"\n",
        "    fake = Faker()\n",
        "    Faker.seed(12345)\n",
        "    np.random.seed(12345)\n",
        "\n",
        "    # Lists for categorical data\n",
        "    insurance_types = ['Health', 'Auto', 'Home', 'Life', 'Disability']\n",
        "    claim_status = ['Pending', 'Approved', 'Denied', 'Under Review']\n",
        "    payment_methods = ['Credit Card', 'Debit Card', 'Bank Transfer', 'Check']\n",
        "\n",
        "    # Generate base data\n",
        "    data = {\n",
        "        # PII Information\n",
        "        'customer_id': [f'CUS{str(i).zfill(6)}' for i in range(num_records)],\n",
        "        'first_name': [fake.first_name() for _ in range(num_records)],\n",
        "        'last_name': [fake.last_name() for _ in range(num_records)],\n",
        "        'email': [fake.email() for _ in range(num_records)],\n",
        "        'phone': [fake.phone_number() for _ in range(num_records)],\n",
        "        'ssn': [fake.ssn() for _ in range(num_records)],\n",
        "        'dob': [fake.date_of_birth(minimum_age=18, maximum_age=90).strftime('%Y-%m-%d')\n",
        "                for _ in range(num_records)],\n",
        "        'address': [fake.address().replace('\\n', ', ') for _ in range(num_records)],\n",
        "\n",
        "        # Insurance Information\n",
        "        'insurance_type': [random.choice(insurance_types) for _ in range(num_records)],\n",
        "        'policy_number': [f'POL{str(i).zfill(8)}' for i in range(num_records)],\n",
        "        'premium_amount': np.random.uniform(500, 5000, num_records).round(2),\n",
        "        'coverage_amount': np.random.uniform(50000, 1000000, num_records).round(2),\n",
        "        'policy_start_date': [fake.date_between(start_date='-5y', end_date='today').strftime('%Y-%m-%d')\n",
        "                             for _ in range(num_records)],\n",
        "\n",
        "        # Claims Information\n",
        "        'claim_number': [f'CLM{str(i).zfill(8)}' if random.random() < 0.3 else ''\n",
        "                        for i in range(num_records)],\n",
        "        'claim_amount': [round(random.uniform(100, 50000), 2) if random.random() < 0.3 else 0\n",
        "                        for _ in range(num_records)],\n",
        "        'claim_status': [random.choice(claim_status) if random.random() < 0.3 else ''\n",
        "                        for _ in range(num_records)],\n",
        "\n",
        "        # Payment Information (PCI)\n",
        "        'payment_method': [random.choice(payment_methods) for _ in range(num_records)],\n",
        "        'card_number': [fake.credit_card_number() if random.random() < 0.7 else ''\n",
        "                       for _ in range(num_records)],\n",
        "        'card_expiry': [fake.credit_card_expire() if random.random() < 0.7 else ''\n",
        "                       for _ in range(num_records)],\n",
        "\n",
        "        # Adding some anomalous patterns\n",
        "        'last_payment_date': [fake.date_between(start_date='-1y', end_date='today').strftime('%Y-%m-%d')\n",
        "                            for _ in range(num_records)],\n",
        "        'payment_frequency': [random.choice(['Monthly', 'Quarterly', 'Annually'])\n",
        "                            for _ in range(num_records)]\n",
        "    }\n",
        "\n",
        "    df = pd.DataFrame(data)\n",
        "\n",
        "    # Insert some anomalies (approximately 5% of records)\n",
        "    num_anomalies = int(num_records * 0.05)\n",
        "    anomaly_indices = np.random.choice(num_records, num_anomalies, replace=False)\n",
        "\n",
        "    for idx in anomaly_indices:\n",
        "        anomaly_type = random.random()\n",
        "\n",
        "        if anomaly_type < 0.3:\n",
        "            # Unusually high premium amount\n",
        "            df.loc[idx, 'premium_amount'] = random.uniform(10000, 20000)\n",
        "        elif anomaly_type < 0.6:\n",
        "            # Unusually high claim amount compared to coverage\n",
        "            df.loc[idx, 'claim_amount'] = df.loc[idx, 'coverage_amount'] * random.uniform(0.8, 0.95)\n",
        "        else:\n",
        "            # Suspicious payment pattern\n",
        "            df.loc[idx, 'payment_frequency'] = 'Irregular'\n",
        "            df.loc[idx, 'premium_amount'] = random.uniform(100, 300)\n",
        "\n",
        "    return df\n",
        "\n",
        "# Generate the synthetic dataset\n",
        "df = generate_synthetic_insurance_data(1000)\n",
        "\n",
        "\n",
        "# Save to CSV\n",
        "df.to_csv('synthetic_pii_pci_data.csv', index=False)\n",
        "\n",
        "# Display first few records\n",
        "print(\"Sample of generated data:\")\n",
        "print(df.head())\n",
        "\n",
        "# Display basic statistics\n",
        "print(\"\\nDataset Statistics:\")\n",
        "print(f\"Total number of records: {len(df)}\")\n",
        "print(f\"Number of customers with claims: {len(df[df['claim_number'] != ''])}\")\n",
        "print(f\"Average premium amount: ${df['premium_amount'].mean():.2f}\")\n",
        "print(f\"Average claim amount: ${df['claim_amount'].mean():.2f}\")\n"
      ],
      "metadata": {
        "colab": {
          "base_uri": "https://localhost:8080/"
        },
        "id": "gLdrl3SgWB6n",
        "outputId": "23fc4e9a-af4c-4e14-efd5-41f5722575a2"
      },
      "execution_count": 11,
      "outputs": [
        {
          "output_type": "stream",
          "name": "stdout",
          "text": [
            "Sample of generated data:\n",
            "  customer_id first_name  last_name                    email  \\\n",
            "0   CUS000000     Robert      Brown      kthomas@example.net   \n",
            "1   CUS000001  Alejandro      Banks     xenglish@example.net   \n",
            "2   CUS000002      Mandy  Mcpherson    richard97@example.net   \n",
            "3   CUS000003    Kenneth     Thomas  graywilliam@example.net   \n",
            "4   CUS000004     Miguel     Hansen      yturner@example.net   \n",
            "\n",
            "                   phone          ssn         dob  \\\n",
            "0      (508)895-7778x480  727-36-5455  1981-06-10   \n",
            "1       321-656-5380x865  826-54-2565  1968-05-19   \n",
            "2       001-949-228-3320  707-59-1278  1979-01-17   \n",
            "3    +1-255-946-5759x363  720-75-5722  1962-03-12   \n",
            "4  +1-942-653-6820x61579  686-75-4465  1991-04-14   \n",
            "\n",
            "                                             address insurance_type  \\\n",
            "0  10581 Gina Shoals Suite 529, Kellymouth, VA 12422           Home   \n",
            "1           120 Michael Fort, New Danielle, VA 28961           Auto   \n",
            "2  178 Williams Greens Suite 218, West Jessicaber...         Health   \n",
            "3       962 Benjamin Mission, East Brandon, GU 60043     Disability   \n",
            "4              947 Jacobs Neck, Chavezfurt, OR 78313           Home   \n",
            "\n",
            "  policy_number  ...  coverage_amount  policy_start_date claim_number  \\\n",
            "0   POL00000000  ...        807762.31         2021-02-12                \n",
            "1   POL00000001  ...        736632.24         2024-02-02  CLM00000001   \n",
            "2   POL00000002  ...        810846.40         2023-04-25                \n",
            "3   POL00000003  ...        973098.61         2023-01-15                \n",
            "4   POL00000004  ...        883624.90         2020-10-15  CLM00000004   \n",
            "\n",
            "  claim_amount  claim_status payment_method       card_number card_expiry  \\\n",
            "0         0.00                  Credit Card  4493593268522323               \n",
            "1      5257.47                  Credit Card     4011355157689       09/31   \n",
            "2         0.00                   Debit Card                                 \n",
            "3      2206.04                        Check    30466767040766       05/27   \n",
            "4      5736.41  Under Review          Check      503852557308       03/27   \n",
            "\n",
            "  last_payment_date payment_frequency  \n",
            "0        2024-08-23           Monthly  \n",
            "1        2024-02-11         Quarterly  \n",
            "2        2024-09-07         Quarterly  \n",
            "3        2024-08-26         Quarterly  \n",
            "4        2024-04-27         Quarterly  \n",
            "\n",
            "[5 rows x 21 columns]\n",
            "\n",
            "Dataset Statistics:\n",
            "Total number of records: 1000\n",
            "Number of customers with claims: 304\n",
            "Average premium amount: $2993.96\n",
            "Average claim amount: $12562.22\n"
          ]
        }
      ]
    },
    {
      "cell_type": "code",
      "source": [
        "dff = spark.createDataFrame(df)"
      ],
      "metadata": {
        "id": "nokdMELv6idg"
      },
      "execution_count": 13,
      "outputs": []
    },
    {
      "cell_type": "code",
      "source": [
        "\n",
        "def anonymize_column(df, column: str):\n",
        "    \"\"\"\n",
        "    Apply anonymization on the specified column of the DataFrame.\n",
        "    \"\"\"\n",
        "    logger.info(f\"Starting anonymization for column: {column}\")\n",
        "    return df.withColumn(\n",
        "        column,\n",
        "        analyze_and_anonymize(col(column))\n",
        "    )\n",
        "\n",
        "# Specify the column to anonymize\n",
        "anonymized_column = \"email\"  # Update this to your column name\n",
        "anonymized_df = anonymize_column(dff, anonymized_column)\n",
        "anonymized_df.show(10, truncate=False)\n"
      ],
      "metadata": {
        "colab": {
          "base_uri": "https://localhost:8080/"
        },
        "id": "RYJUzziqZ7E9",
        "outputId": "209d7a01-5fbe-4109-b569-832892688c83"
      },
      "execution_count": 14,
      "outputs": [
        {
          "output_type": "stream",
          "name": "stdout",
          "text": [
            "+-----------+----------+---------+---------+----------------------+-----------+----------+---------------------------------------------------------+--------------+-------------+-----------------+---------------+-----------------+------------+------------+------------+--------------+----------------+-----------+-----------------+-----------------+\n",
            "|customer_id|first_name|last_name|email    |phone                 |ssn        |dob       |address                                                  |insurance_type|policy_number|premium_amount   |coverage_amount|policy_start_date|claim_number|claim_amount|claim_status|payment_method|card_number     |card_expiry|last_payment_date|payment_frequency|\n",
            "+-----------+----------+---------+---------+----------------------+-----------+----------+---------------------------------------------------------+--------------+-------------+-----------------+---------------+-----------------+------------+------------+------------+--------------+----------------+-----------+-----------------+-----------------+\n",
            "|CUS000000  |Robert    |Brown    |**EMAIL**|(508)895-7778x480     |727-36-5455|1981-06-10|10581 Gina Shoals Suite 529, Kellymouth, VA 12422        |Home          |POL00000000  |4683.27          |807762.31      |2021-02-12       |            |0.0         |            |Credit Card   |4493593268522323|           |2024-08-23       |Monthly          |\n",
            "|CUS000001  |Alejandro |Banks    |**EMAIL**|321-656-5380x865      |826-54-2565|1968-05-19|120 Michael Fort, New Danielle, VA 28961                 |Auto          |POL00000001  |1923.69          |736632.24      |2024-02-02       |CLM00000001 |5257.47     |            |Credit Card   |4011355157689   |09/31      |2024-02-11       |Quarterly        |\n",
            "|CUS000002  |Mandy     |Mcpherson|**EMAIL**|001-949-228-3320      |707-59-1278|1979-01-17|178 Williams Greens Suite 218, West Jessicaberg, PR 14884|Health        |POL00000002  |1327.63          |810846.4       |2023-04-25       |            |0.0         |            |Debit Card    |                |           |2024-09-07       |Quarterly        |\n",
            "|CUS000003  |Kenneth   |Thomas   |**EMAIL**|+1-255-946-5759x363   |720-75-5722|1962-03-12|962 Benjamin Mission, East Brandon, GU 60043             |Disability    |POL00000003  |1420.52          |973098.61      |2023-01-15       |            |2206.04     |            |Check         |30466767040766  |05/27      |2024-08-26       |Quarterly        |\n",
            "|CUS000004  |Miguel    |Hansen   |**EMAIL**|+1-942-653-6820x61579 |686-75-4465|1991-04-14|947 Jacobs Neck, Chavezfurt, OR 78313                    |Home          |POL00000004  |3054.76          |883624.9       |2020-10-15       |CLM00000004 |5736.41     |Under Review|Check         |503852557308    |03/27      |2024-04-27       |Quarterly        |\n",
            "|CUS000005  |James     |Hurst    |**EMAIL**|+1-238-746-2300x99246 |799-20-8864|1961-12-13|0262 Tamara Cliffs Suite 811, Michelleburgh, NM 43452    |Life          |POL00000005  |3179.95          |626499.32      |2019-12-02       |            |0.0         |            |Check         |                |07/27      |2024-03-15       |Annually         |\n",
            "|CUS000006  |Ashlee    |Baker    |**EMAIL**|326.301.5781          |415-59-1408|1942-07-24|510 Kimberly Square, Sampsonton, LA 57364                |Life          |POL00000006  |4840.32          |310340.42      |2021-12-23       |CLM00000006 |22069.44    |Approved    |Check         |577807367435    |03/29      |2024-09-06       |Monthly          |\n",
            "|CUS000007  |Evan      |Clark    |**EMAIL**|299.508.9919x24465    |485-06-7532|1970-07-26|96803 Victor Squares Suite 603, Ashleyview, OR 24064     |Disability    |POL00000007  |3439.3           |542835.37      |2024-08-18       |CLM00000007 |0.0         |            |Debit Card    |4627104017531737|11/26      |2024-10-19       |Quarterly        |\n",
            "|CUS000008  |David     |Robbins  |**EMAIL**|+1-363-390-9220x86165 |008-22-3691|1954-05-27|276 Price Rest Apt. 135, Alexanderland, CA 45815         |Home          |POL00000008  |3870.08          |590447.54      |2022-08-30       |            |0.0         |            |Bank Transfer |6011863739882236|           |2023-12-04       |Quarterly        |\n",
            "|CUS000009  |Ryan      |Bauer    |**EMAIL**|001-209-789-6990x81997|034-53-1724|1962-08-16|200 Janice Springs Suite 478, Dorisbury, MI 45016        |Home          |POL00000009  |197.7683824971627|954252.18      |2023-05-15       |CLM00000009 |36390.37    |            |Bank Transfer |213168791032459 |           |2024-11-02       |Irregular        |\n",
            "+-----------+----------+---------+---------+----------------------+-----------+----------+---------------------------------------------------------+--------------+-------------+-----------------+---------------+-----------------+------------+------------+------------+--------------+----------------+-----------+-----------------+-----------------+\n",
            "only showing top 10 rows\n",
            "\n"
          ]
        }
      ]
    },
    {
      "cell_type": "code",
      "source": [],
      "metadata": {
        "id": "V10UhqTmMx1F"
      },
      "execution_count": null,
      "outputs": []
    }
  ]
}